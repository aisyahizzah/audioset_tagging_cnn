{
 "cells": [
  {
   "cell_type": "code",
   "execution_count": 2,
   "id": "c1707265",
   "metadata": {},
   "outputs": [
    {
     "name": "stdout",
     "output_type": "stream",
     "text": [
      "Collecting matplotlib==3.0.3\n",
      "  Downloading matplotlib-3.0.3.tar.gz (36.6 MB)\n"
     ]
    },
    {
     "name": "stderr",
     "output_type": "stream",
     "text": [
      "    ERROR: Command errored out with exit status 1:\n",
      "     command: 'c:\\users\\asus\\appdata\\local\\programs\\python\\python39\\python.exe' -c 'import io, os, sys, setuptools, tokenize; sys.argv[0] = '\"'\"'C:\\\\Users\\\\Asus\\\\AppData\\\\Local\\\\Temp\\\\pip-install-06815w2q\\\\matplotlib_f3b5eb48025c427ebc022c821c1b0074\\\\setup.py'\"'\"'; __file__='\"'\"'C:\\\\Users\\\\Asus\\\\AppData\\\\Local\\\\Temp\\\\pip-install-06815w2q\\\\matplotlib_f3b5eb48025c427ebc022c821c1b0074\\\\setup.py'\"'\"';f = getattr(tokenize, '\"'\"'open'\"'\"', open)(__file__) if os.path.exists(__file__) else io.StringIO('\"'\"'from setuptools import setup; setup()'\"'\"');code = f.read().replace('\"'\"'\\r\\n'\"'\"', '\"'\"'\\n'\"'\"');f.close();exec(compile(code, __file__, '\"'\"'exec'\"'\"'))' egg_info --egg-base 'C:\\Users\\Asus\\AppData\\Local\\Temp\\pip-pip-egg-info-uoalavm2'\n",
      "         cwd: C:\\Users\\Asus\\AppData\\Local\\Temp\\pip-install-06815w2q\\matplotlib_f3b5eb48025c427ebc022c821c1b0074\\\n",
      "    Complete output (47 lines):\n",
      "    ============================================================================\n",
      "    Edit setup.cfg to change the build options\n",
      "    \n",
      "    BUILDING MATPLOTLIB\n",
      "                matplotlib: yes [3.0.3]\n",
      "                    python: yes [3.9.6 (tags/v3.9.6:db3ff76, Jun 28 2021,\n",
      "                            15:26:21) [MSC v.1929 64 bit (AMD64)]]\n",
      "                  platform: yes [win32]\n",
      "    \n",
      "    REQUIRED DEPENDENCIES AND EXTENSIONS\n",
      "                     numpy: yes [version 1.21.2]\n",
      "          install_requires: yes [handled by setuptools]\n",
      "                    libagg: yes [pkg-config information for 'libagg' could not\n",
      "                            be found. Using local copy.]\n",
      "                  freetype: no  [The C/C++ header for freetype\n",
      "                            (freetype2\\ft2build.h) could not be found.  You may\n",
      "                            need to install the development package.]\n",
      "                       png: no  [The C/C++ header for png (png.h) could not be\n",
      "                            found.  You may need to install the development\n",
      "                            package.]\n",
      "                     qhull: yes [pkg-config information for 'libqhull' could not\n",
      "                            be found. Using local copy.]\n",
      "    \n",
      "    OPTIONAL SUBPACKAGES\n",
      "               sample_data: yes [installing]\n",
      "                  toolkits: yes [installing]\n",
      "                     tests: no  [skipping due to configuration]\n",
      "            toolkits_tests: no  [skipping due to configuration]\n",
      "    \n",
      "    OPTIONAL BACKEND EXTENSIONS\n",
      "                       agg: yes [installing]\n",
      "                     tkagg: yes [installing; run-time loading from Python Tcl /\n",
      "                            Tk]\n",
      "                    macosx: no  [Mac OS-X only]\n",
      "                 windowing: yes [installing]\n",
      "    \n",
      "    OPTIONAL PACKAGE DATA\n",
      "                      dlls: no  [skipping due to configuration]\n",
      "    \n",
      "    ============================================================================\n",
      "                            * The following required packages can not be built:\n",
      "                            * freetype, png\n",
      "                            * Please check http://gnuwin32.sourceforge.net/packa\n",
      "                            * ges/freetype.htm for instructions to install\n",
      "                            * freetype\n",
      "                            * Please check http://gnuwin32.sourceforge.net/packa\n",
      "                            * ges/libpng.htm for instructions to install png\n",
      "    ----------------------------------------\n",
      "WARNING: Discarding https://files.pythonhosted.org/packages/26/04/8b381d5b166508cc258632b225adbafec49bbe69aa9a4fa1f1b461428313/matplotlib-3.0.3.tar.gz#sha256=e1d33589e32f482d0a7d1957bf473d43341115d40d33f578dad44432e47df7b7 (from https://pypi.org/simple/matplotlib/) (requires-python:>=3.5). Command errored out with exit status 1: python setup.py egg_info Check the logs for full command output.\n",
      "ERROR: Could not find a version that satisfies the requirement matplotlib==3.0.3 (from versions: 0.86, 0.86.1, 0.86.2, 0.91.0, 0.91.1, 1.0.1, 1.1.0, 1.1.1, 1.2.0, 1.2.1, 1.3.0, 1.3.1, 1.4.0, 1.4.1rc1, 1.4.1, 1.4.2, 1.4.3, 1.5.0, 1.5.1, 1.5.2, 1.5.3, 2.0.0b1, 2.0.0b2, 2.0.0b3, 2.0.0b4, 2.0.0rc1, 2.0.0rc2, 2.0.0, 2.0.1, 2.0.2, 2.1.0rc1, 2.1.0, 2.1.1, 2.1.2, 2.2.0rc1, 2.2.0, 2.2.2, 2.2.3, 2.2.4, 2.2.5, 3.0.0rc2, 3.0.0, 3.0.1, 3.0.2, 3.0.3, 3.1.0rc1, 3.1.0rc2, 3.1.0, 3.1.1, 3.1.2, 3.1.3, 3.2.0rc1, 3.2.0rc3, 3.2.0, 3.2.1, 3.2.2, 3.3.0rc1, 3.3.0, 3.3.1, 3.3.2, 3.3.3, 3.3.4, 3.4.0rc1, 3.4.0rc2, 3.4.0rc3, 3.4.0, 3.4.1, 3.4.2, 3.4.3, 3.5.0b1, 3.5.0rc1, 3.5.0, 3.5.1, 3.5.2)\n",
      "ERROR: No matching distribution found for matplotlib==3.0.3\n",
      "WARNING: You are using pip version 21.1.3; however, version 22.1.2 is available.\n",
      "You should consider upgrading via the 'c:\\users\\asus\\appdata\\local\\programs\\python\\python39\\python.exe -m pip install --upgrade pip' command.\n"
     ]
    }
   ],
   "source": [
    "!pip install -r ../requirements.txt"
   ]
  },
  {
   "cell_type": "code",
   "execution_count": null,
   "id": "fe9a940b",
   "metadata": {},
   "outputs": [],
   "source": [
    "cmd = [\n",
    "        \"./main_chunk_with_ffmpeg\",\n",
    "        input_path,\n",
    "        output_path + OUT_CPP,\n",
    "    ]\n",
    "    cmd = [str(part) for part in cmd]\n",
    "    pprint(cmd)\n",
    "    cp = subprocess.run(cmd)\n",
    "    if cp.returncode != 0:\n",
    "        raise Exception(\"Run VAD CPP failed.\")"
   ]
  }
 ],
 "metadata": {
  "kernelspec": {
   "display_name": "Python 3 (ipykernel)",
   "language": "python",
   "name": "python3"
  },
  "language_info": {
   "codemirror_mode": {
    "name": "ipython",
    "version": 3
   },
   "file_extension": ".py",
   "mimetype": "text/x-python",
   "name": "python",
   "nbconvert_exporter": "python",
   "pygments_lexer": "ipython3",
   "version": "3.9.6"
  }
 },
 "nbformat": 4,
 "nbformat_minor": 5
}
