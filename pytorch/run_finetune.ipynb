{
 "cells": [
  {
   "cell_type": "code",
   "execution_count": 1,
   "id": "04ab1276",
   "metadata": {},
   "outputs": [],
   "source": [
    "from pprint import pprint\n",
    "import subprocess"
   ]
  },
  {
   "cell_type": "code",
   "execution_count": 4,
   "id": "a99566c6",
   "metadata": {},
   "outputs": [],
   "source": [
    "CHECKPOINT_PATH=\"Cnn14_DecisionLevelMax_mAP=0.385.pth\"\n",
    "MODEL_TYPE=\"Cnn14_DecisionLevelMax\""
   ]
  },
  {
   "cell_type": "code",
   "execution_count": 13,
   "id": "6d24f142",
   "metadata": {},
   "outputs": [
    {
     "data": {
      "text/plain": [
       "'D:\\\\Study\\\\S2\\\\Thesis\\\\audioset_tagging_cnn\\\\pytorch'"
      ]
     },
     "execution_count": 13,
     "metadata": {},
     "output_type": "execute_result"
    }
   ],
   "source": [
    "%pwd"
   ]
  },
  {
   "cell_type": "code",
   "execution_count": 18,
   "id": "fe9a940b",
   "metadata": {},
   "outputs": [
    {
     "name": "stdout",
     "output_type": "stream",
     "text": [
      "['python finetune_template.py --sample_rate=16000 --window_size=512 --hop_size=160 --mel_bins=64 --fmin=50 --fmax=8000 --model_type=Cnn14_DecisionLevelMax --checkpoint_path=Cnn14_DecisionLevelMax_mAP=0.385.pth ']\n"
     ]
    },
    {
     "ename": "Exception",
     "evalue": "Run finetune failed.",
     "output_type": "error",
     "traceback": [
      "\u001b[1;31m---------------------------------------------------------------------------\u001b[0m",
      "\u001b[1;31mException\u001b[0m                                 Traceback (most recent call last)",
      "\u001b[1;32m~\\AppData\\Local\\Temp\\ipykernel_42700\\4258583065.py\u001b[0m in \u001b[0;36m<module>\u001b[1;34m\u001b[0m\n\u001b[0;32m     14\u001b[0m \u001b[0mcp\u001b[0m \u001b[1;33m=\u001b[0m \u001b[0msubprocess\u001b[0m\u001b[1;33m.\u001b[0m\u001b[0mrun\u001b[0m\u001b[1;33m(\u001b[0m\u001b[0mcmd\u001b[0m\u001b[1;33m[\u001b[0m\u001b[1;36m0\u001b[0m\u001b[1;33m]\u001b[0m\u001b[1;33m)\u001b[0m\u001b[1;33m\u001b[0m\u001b[1;33m\u001b[0m\u001b[0m\n\u001b[0;32m     15\u001b[0m \u001b[1;32mif\u001b[0m \u001b[0mcp\u001b[0m\u001b[1;33m.\u001b[0m\u001b[0mreturncode\u001b[0m \u001b[1;33m!=\u001b[0m \u001b[1;36m0\u001b[0m\u001b[1;33m:\u001b[0m\u001b[1;33m\u001b[0m\u001b[1;33m\u001b[0m\u001b[0m\n\u001b[1;32m---> 16\u001b[1;33m     \u001b[1;32mraise\u001b[0m \u001b[0mException\u001b[0m\u001b[1;33m(\u001b[0m\u001b[1;34m\"Run finetune failed.\"\u001b[0m\u001b[1;33m)\u001b[0m\u001b[1;33m\u001b[0m\u001b[1;33m\u001b[0m\u001b[0m\n\u001b[0m",
      "\u001b[1;31mException\u001b[0m: Run finetune failed."
     ]
    }
   ],
   "source": [
    "cmd = [\n",
    "        \"python finetune_template.py \" \\\n",
    "        \"--sample_rate=16000 \" \\\n",
    "        \"--window_size=512 \" \\\n",
    "        \"--hop_size=160 \" \\\n",
    "        \"--mel_bins=64 \" \\\n",
    "        \"--fmin=50 \" \\\n",
    "        \"--fmax=8000 \" \\\n",
    "        f\"--model_type={MODEL_TYPE} \" \\\n",
    "        f\"--checkpoint_path={CHECKPOINT_PATH} \" \n",
    "    ]\n",
    "cmd = [str(part) for part in cmd]\n",
    "print(cmd)\n",
    "cp = subprocess.run(cmd[0])\n",
    "if cp.returncode != 0:\n",
    "    raise Exception(\"Run finetune failed.\")"
   ]
  },
  {
   "cell_type": "code",
   "execution_count": null,
   "id": "b1b54a8f",
   "metadata": {},
   "outputs": [],
   "source": []
  }
 ],
 "metadata": {
  "kernelspec": {
   "display_name": "Python 3 (ipykernel)",
   "language": "python",
   "name": "python3"
  },
  "language_info": {
   "codemirror_mode": {
    "name": "ipython",
    "version": 3
   },
   "file_extension": ".py",
   "mimetype": "text/x-python",
   "name": "python",
   "nbconvert_exporter": "python",
   "pygments_lexer": "ipython3",
   "version": "3.7.13"
  }
 },
 "nbformat": 4,
 "nbformat_minor": 5
}
